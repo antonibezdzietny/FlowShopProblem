{
 "cells": [
  {
   "cell_type": "code",
   "execution_count": 1,
   "metadata": {},
   "outputs": [],
   "source": [
    "%reload_ext autoreload\n",
    "%autoreload 2"
   ]
  },
  {
   "cell_type": "code",
   "execution_count": 2,
   "metadata": {},
   "outputs": [],
   "source": [
    "import scripts as s\n",
    "import numpy as np\n",
    "from scripts.FSDataReader import FSDataReader\n",
    "from scripts.FSUtilities import FSNeighborMoves\n",
    "from scripts.FSUtilities import FSSummarizer\n",
    "\n",
    "dtReader = FSDataReader()\n",
    "dtReader.setPath(\"database/tai20_10.txt\")\n",
    "\n",
    "data = dtReader.readData(0)\n"
   ]
  },
  {
   "cell_type": "code",
   "execution_count": 3,
   "metadata": {},
   "outputs": [
    {
     "data": {
      "text/plain": [
       "(2004.0,\n",
       " array([[  74.,   95.,  153.,  157.,  178.,  206.,  264.,  347.,  378.,\n",
       "          439.,  533.,  577.,  674.,  768.,  834.,  840.,  877.,  899.,\n",
       "          998., 1081.],\n",
       "        [ 102.,  105.,  180.,  241.,  275.,  351.,  415.,  502.,  556.,\n",
       "          654.,  730.,  771.,  841.,  884.,  926., 1005., 1093., 1108.,\n",
       "         1157., 1229.],\n",
       "        [ 191.,  243.,  299.,  312.,  319.,  383.,  447.,  600.,  646.,\n",
       "          714.,  753.,  858.,  865.,  920.,  952., 1090., 1100., 1142.,\n",
       "         1193., 1277.],\n",
       "        [ 251.,  339.,  365.,  423.,  499.,  597.,  626.,  673.,  752.,\n",
       "          778.,  797.,  906., 1001., 1079., 1156., 1246., 1270., 1280.,\n",
       "         1365., 1420.],\n",
       "        [ 305.,  405.,  417.,  480.,  569.,  679.,  778.,  862.,  878.,\n",
       "          919.,  942.,  953., 1069., 1137., 1186., 1251., 1275., 1319.,\n",
       "         1423., 1454.],\n",
       "        [ 397.,  416.,  471.,  577.,  634.,  732.,  843.,  939.,  990.,\n",
       "         1026., 1079., 1098., 1152., 1238., 1278., 1334., 1413., 1487.,\n",
       "         1511., 1514.],\n",
       "        [ 406.,  424.,  559.,  649.,  676.,  754.,  893.,  941., 1039.,\n",
       "         1121., 1214., 1310., 1353., 1366., 1426., 1437., 1474., 1578.,\n",
       "         1662., 1729.],\n",
       "        [ 410.,  442.,  584.,  677.,  772.,  823.,  977.,  995., 1045.,\n",
       "         1211., 1283., 1371., 1428., 1433., 1508., 1512., 1550., 1606.,\n",
       "         1666., 1809.],\n",
       "        [ 435.,  457.,  675.,  726.,  828.,  838., 1039., 1109., 1185.,\n",
       "         1310., 1368., 1454., 1538., 1602., 1676., 1690., 1708., 1756.,\n",
       "         1852., 1938.],\n",
       "        [ 450.,  541.,  683.,  756.,  923., 1002., 1048., 1200., 1276.,\n",
       "         1336., 1410., 1520., 1608., 1699., 1766., 1769., 1867., 1871.,\n",
       "         1942., 2004.]]))"
      ]
     },
     "execution_count": 3,
     "metadata": {},
     "output_type": "execute_result"
    }
   ],
   "source": [
    "com_arr, com = FSSummarizer.calculateCompletionTime(data)"
   ]
  },
  {
   "cell_type": "code",
   "execution_count": null,
   "metadata": {},
   "outputs": [],
   "source": [
    "FSSummarizer.displayGraph(data, )"
   ]
  }
 ],
 "metadata": {
  "kernelspec": {
   "display_name": "venv",
   "language": "python",
   "name": "python3"
  },
  "language_info": {
   "codemirror_mode": {
    "name": "ipython",
    "version": 3
   },
   "file_extension": ".py",
   "mimetype": "text/x-python",
   "name": "python",
   "nbconvert_exporter": "python",
   "pygments_lexer": "ipython3",
   "version": "3.10.12"
  }
 },
 "nbformat": 4,
 "nbformat_minor": 2
}
