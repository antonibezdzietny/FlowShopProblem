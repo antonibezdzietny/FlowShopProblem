{
 "cells": [
  {
   "cell_type": "code",
   "execution_count": null,
   "metadata": {},
   "outputs": [],
   "source": [
    "%reload_ext autoreload\n",
    "%autoreload 2"
   ]
  },
  {
   "cell_type": "code",
   "execution_count": 13,
   "metadata": {},
   "outputs": [
    {
     "data": {
      "text/plain": [
       "FSDataFrame(n_jobs=20, n_machines=10, init_seed=587595453, up_boundary=1582, low_boundary=1448, processing_time=array([[74., 21., 58.,  4., 21., 28., 58., 83., 31., 61., 94., 44., 97.,\n",
       "        94., 66.,  6., 37., 22., 99., 83.],\n",
       "       [28.,  3., 27., 61., 34., 76., 64., 87., 54., 98., 76., 41., 70.,\n",
       "        43., 42., 79., 88., 15., 49., 72.],\n",
       "       [89., 52., 56., 13.,  7., 32., 32., 98., 46., 60., 23., 87.,  7.,\n",
       "        36., 26., 85.,  7., 34., 36., 48.],\n",
       "       [60., 88., 26., 58., 76., 98., 29., 47., 79., 26., 19., 48., 95.,\n",
       "        78., 77., 90., 24., 10., 85., 55.],\n",
       "       [54., 66., 12., 57., 70., 82., 99., 84., 16., 41., 23., 11., 68.,\n",
       "        58., 30.,  5.,  5., 39., 58., 31.],\n",
       "       [92., 11., 54., 97., 57., 53., 65., 77., 51., 36., 53., 19., 54.,\n",
       "        86., 40., 56., 79., 74., 24.,  3.],\n",
       "       [ 9.,  8., 88., 72., 27., 22., 50.,  2., 49., 82., 93., 96., 43.,\n",
       "        13., 60., 11., 37., 91., 84., 67.],\n",
       "       [ 4., 18., 25., 28., 95., 51., 84., 18.,  6., 90., 69., 61., 57.,\n",
       "         5., 75.,  4., 38., 28.,  4., 80.],\n",
       "       [25., 15., 91., 49., 56., 10., 62., 70., 76., 99., 58., 83., 84.,\n",
       "        64., 74., 14., 18., 48., 96., 86.],\n",
       "       [15., 84.,  8., 30., 95., 79.,  9., 91., 76., 26., 42., 66., 70.,\n",
       "        91., 67.,  3., 98.,  4., 71., 62.]]))"
      ]
     },
     "execution_count": 13,
     "metadata": {},
     "output_type": "execute_result"
    }
   ],
   "source": [
    "import scripts as s\n",
    "import numpy as np\n",
    "from scripts.FSDataReader import FSDataReader\n",
    "\n",
    "dtReader = FSDataReader()\n",
    "dtReader.setPath(\"database/tai20_10.txt\")\n",
    "\n",
    "dtReader.readData(0)\n",
    "\n",
    "pass"
   ]
  }
 ],
 "metadata": {
  "kernelspec": {
   "display_name": "venv",
   "language": "python",
   "name": "python3"
  },
  "language_info": {
   "codemirror_mode": {
    "name": "ipython",
    "version": 3
   },
   "file_extension": ".py",
   "mimetype": "text/x-python",
   "name": "python",
   "nbconvert_exporter": "python",
   "pygments_lexer": "ipython3",
   "version": "3.10.12"
  }
 },
 "nbformat": 4,
 "nbformat_minor": 2
}
